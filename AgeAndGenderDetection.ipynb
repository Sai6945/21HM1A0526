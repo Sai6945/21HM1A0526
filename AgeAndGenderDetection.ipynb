{
  "nbformat": 4,
  "nbformat_minor": 0,
  "metadata": {
    "colab": {
      "provenance": [],
      "include_colab_link": true
    },
    "kernelspec": {
      "name": "python3",
      "display_name": "Python 3"
    },
    "language_info": {
      "name": "python"
    }
  },
  "cells": [
    {
      "cell_type": "markdown",
      "metadata": {
        "id": "view-in-github",
        "colab_type": "text"
      },
      "source": [
        "<a href=\"https://colab.research.google.com/github/Sai6945/21HM1A0526/blob/main/AgeAndGenderDetection.ipynb\" target=\"_parent\"><img src=\"https://colab.research.google.com/assets/colab-badge.svg\" alt=\"Open In Colab\"/></a>"
      ]
    },
    {
      "cell_type": "code",
      "execution_count": null,
      "metadata": {
        "id": "NgPxe5aaxxcJ"
      },
      "outputs": [],
      "source": [
        "import tensorflow as tf\n",
        "from tensorflow.keras.utils import load_img\n",
        "from keras.models import Sequential, Model\n",
        "from keras.layers import Dense, Conv2D, Dropout, Flatten, MaxPooling2D, Input\n",
        "import numpy as np\n",
        "import random\n",
        "import matplotlib.pyplot as plt\n",
        "import os\n",
        "import seaborn as sns\n",
        "import warnings\n",
        "from tqdm.notebook import tqdm\n",
        "warnings.filterwarnings('ignore')\n",
        "%matplotlib inline"
      ]
    },
    {
      "cell_type": "code",
      "source": [
        "from google.colab import files\n",
        "\n",
        "# Upload the file\n",
        "uploaded = files.upload()\n",
        "\n",
        "# Unzip the file\n",
        "!unzip 'UTKFaceZ.zip' -d '/content/UTKFace'"
      ],
      "metadata": {
        "id": "4V_nKWK-yZGZ"
      },
      "execution_count": null,
      "outputs": []
    },
    {
      "cell_type": "code",
      "source": [
        "BASE_DIR = '/content/UTKFace/UTKFace.zip'\n",
        "age_labels = []\n",
        "gender_labels = []\n",
        "image_paths = []\n",
        "\n",
        "image_filenames = os.listdir(BASE_DIR)\n",
        "random.shuffle(image_filenames)\n",
        "\n",
        "for image in tqdm(image_filenames):\n",
        "  image_path = os.path.join(BASE_DIR, image)\n",
        "  img_components = image.split('_')\n",
        "  age_label = int(img_components[0])\n",
        "  gender_label = int(img_components[1])\n",
        "\n",
        "  # Append the image_path, age_label, and gender_label\n",
        "  age_labels.append(age_label)\n",
        "  gender_labels.append(gender_label)\n",
        "  image_paths.append(image_path)"
      ],
      "metadata": {
        "id": "oXdbFEweyltX"
      },
      "execution_count": null,
      "outputs": []
    },
    {
      "cell_type": "code",
      "source": [
        "print(f'Number of age_labels: {len(age_labels)}, Number of gender_labels: {len(gender_labels)}, Number of image_paths: {len(image_paths)}')\n"
      ],
      "metadata": {
        "id": "5HdTd9mszDTA"
      },
      "execution_count": null,
      "outputs": []
    },
    {
      "cell_type": "code",
      "source": [
        "gender_mapping = {\n",
        "    1: 'Female',\n",
        "    0: 'Male'\n",
        "}"
      ],
      "metadata": {
        "id": "5E5eLgl0zHY7"
      },
      "execution_count": null,
      "outputs": []
    },
    {
      "cell_type": "code",
      "source": [
        "import pandas as pd\n",
        "df = pd.DataFrame()\n",
        "df['image_path'], df['age'], df['gender'] = image_paths, age_labels, gender_labels\n",
        "df.head(5)"
      ],
      "metadata": {
        "id": "ibxtrzC6zKVM"
      },
      "execution_count": null,
      "outputs": []
    },
    {
      "cell_type": "code",
      "source": [
        "from PIL import Image\n",
        "\n",
        "rand_index = random.randint(0, len(image_paths))\n",
        "age = df['age'][rand_index]\n",
        "gender = df['gender'][rand_index]\n",
        "IMG = Image.open(df['image_path'][rand_index])\n",
        "plt.title(f'Age: {age} Gender: {gender_mapping[gender]}')\n",
        "plt.axis('off')\n",
        "plt.imshow(IMG)"
      ],
      "metadata": {
        "id": "qsDhydyHzND7"
      },
      "execution_count": null,
      "outputs": []
    },
    {
      "cell_type": "code",
      "source": [
        " # Age distribution\n",
        " sns.distplot(df['age'])\n",
        " sns.countplot(df['gender'])"
      ],
      "metadata": {
        "id": "O3g_BEf1zQhC"
      },
      "execution_count": null,
      "outputs": []
    },
    {
      "cell_type": "code",
      "source": [
        " plt.figure(figsize=(20, 20))\n",
        "samples = df.iloc[0:16]\n",
        "for index, sample, age, gender in samples.itertuples():\n",
        "    plt.subplot(4, 4, index + 1)\n",
        "    img = load_img(sample)\n",
        "    img = np.array(img)\n",
        "    plt.axis('off')\n",
        "    plt.title(f'Age: {age} Gender: {gender_mapping[gender]}')\n",
        "    plt.imshow(img)"
      ],
      "metadata": {
        "id": "BjMB-ArjzUG8"
      },
      "execution_count": null,
      "outputs": []
    },
    {
      "cell_type": "code",
      "source": [
        "def extract_image_features(images):\n",
        "    features = list()\n",
        "\n",
        "    for image in tqdm(images):\n",
        "        img = load_img(image, color_mode='grayscale', target_size=(128, 128))\n",
        "\n",
        "        img = np.array(img)\n",
        "        features.append(img)\n",
        "\n",
        "    features = np.array(features)\n",
        "    features = features.reshape(len(features), 128, 128, 1)\n",
        "    return features"
      ],
      "metadata": {
        "id": "Y04Kqs4Lzb1u"
      },
      "execution_count": null,
      "outputs": []
    },
    {
      "cell_type": "code",
      "source": [
        "import pandas as pd\n",
        "df = pd.DataFrame({'image_path': image_paths, 'age': age_labels, 'gender': gender_labels})\n",
        "\n",
        "X = extract_image_features(df['image_path'])\n",
        "X.shape\n",
        "X = X / 255.0\n",
        "y_gender = np.array(df['gender'])\n",
        "y_age = np.array(df['age'])"
      ],
      "metadata": {
        "id": "9PPQ2j5yzeAw"
      },
      "execution_count": null,
      "outputs": []
    },
    {
      "cell_type": "code",
      "source": [
        "input_shape = (128, 128, 1)\n",
        "inputs = Input((input_shape))\n",
        "conv_1 = Conv2D(32, kernel_size=(3, 3), activation='relu')(inputs)\n",
        "max_1 = MaxPooling2D(pool_size=(2, 2))(conv_1)\n",
        "conv_2 = Conv2D(64, kernel_size=(3, 3), activation='relu')(max_1)\n",
        "max_2 = MaxPooling2D(pool_size=(2, 2))(conv_2)\n",
        "conv_3 = Conv2D(128, kernel_size=(3, 3), activation='relu')(max_2)\n",
        "max_3 = MaxPooling2D(pool_size=(2, 2))(conv_3)\n",
        "conv_4 = Conv2D(256, kernel_size=(3, 3), activation='relu')(max_3)\n",
        "max_4 = MaxPooling2D(pool_size=(2, 2))(conv_4)\n",
        "\n",
        "flatten = Flatten()(max_4)"
      ],
      "metadata": {
        "id": "jdR6AlnnzgXV"
      },
      "execution_count": null,
      "outputs": []
    },
    {
      "cell_type": "code",
      "source": [
        "# fully connected layers\n",
        "dense_1 = Dense(256, activation='relu')(flatten)\n",
        "dense_2 = Dense(256, activation='relu')(flatten)\n",
        "\n",
        "dropout_1 = Dropout(0.3)(dense_1)\n",
        "dropout_2 = Dropout(0.3)(dense_2)\n",
        "\n",
        "output_1 = Dense(1, activation='sigmoid', name='gender_out')(dropout_1)\n",
        "output_2 = Dense(1, activation='relu', name='age_out')(dropout_2)\n",
        "\n",
        "model = Model(inputs=[inputs], outputs=[output_1, output_2])\n",
        "\n",
        "# Update model.compile to include separate metrics for each output\n",
        "model.compile(loss=['binary_crossentropy', 'mae'],\n",
        "              optimizer='adam',\n",
        "              metrics=[['accuracy'], ['mae']]) # Provide a list of metrics for each output\n",
        "\n",
        "# ... rest of the code ...\n"
      ],
      "metadata": {
        "id": "KiV5V0MJzkZE"
      },
      "execution_count": null,
      "outputs": []
    },
    {
      "cell_type": "code",
      "source": [
        "# plot the model\n",
        "from tensorflow.keras.utils import plot_model\n",
        "plot_model(model)\n"
      ],
      "metadata": {
        "id": "CV0ubtbVzopM"
      },
      "execution_count": null,
      "outputs": []
    },
    {
      "cell_type": "code",
      "source": [
        "history = model.fit(x=X, y=[y_gender, y_age],\n",
        "                    batch_size=32, epochs=50, validation_split=0.2)"
      ],
      "metadata": {
        "id": "f78KsinTzrJD"
      },
      "execution_count": null,
      "outputs": []
    },
    {
      "cell_type": "code",
      "source": [
        "model.compile(loss=['binary_crossentropy', 'mae'],\n",
        "              optimizer='adam',\n",
        "              metrics=[['accuracy'], ['mae']]) # Provide a list of metrics for each output\n",
        "# plot results for gender\n",
        "acc = history.history['gender_out_accuracy']\n",
        "val_acc = history.history['val_gender_out_accuracy']\n",
        "epochs = range(len(acc))"
      ],
      "metadata": {
        "id": "IzXkhhrqzvlc"
      },
      "execution_count": null,
      "outputs": []
    },
    {
      "cell_type": "code",
      "source": [
        "plt.plot(epochs, acc, 'b', label='Training Accuracy')\n",
        "plt.plot(epochs, val_acc, 'r', label='Validation Accuracy')\n",
        "plt.title('Accuracy Graph')\n",
        "plt.legend()\n",
        "plt.figure()\n",
        "\n",
        "loss = history.history['gender_out_loss']\n",
        "val_loss = history.history['val_gender_out_loss']\n",
        "\n",
        "plt.plot(epochs, loss, 'b', label='Training Loss')\n",
        "plt.plot(epochs, val_loss, 'r', label='Validation Loss')\n",
        "plt.title('Loss Graph')\n",
        "plt.legend()\n",
        "plt.show()"
      ],
      "metadata": {
        "id": "dL2e8kdUzyLS"
      },
      "execution_count": null,
      "outputs": []
    },
    {
      "cell_type": "code",
      "source": [
        "# plot results for age\n",
        "loss = history.history['age_out_loss']\n",
        "val_loss = history.history['val_age_out_loss']\n",
        "epochs = range(len(loss))\n",
        "\n",
        "plt.plot(epochs, loss, 'b', label='Training Loss')\n",
        "plt.plot(epochs, val_loss, 'r', label='Validation Loss')\n",
        "plt.title('Loss Graph')\n",
        "plt.legend()\n",
        "plt.show()"
      ],
      "metadata": {
        "id": "cavwFFNTz2Qc"
      },
      "execution_count": null,
      "outputs": []
    },
    {
      "cell_type": "code",
      "source": [
        "from PIL import Image # Import Image from PIL\n",
        "\n",
        "def get_image_features(image):\n",
        "  img = load_img(image) # Remove grayscale=True\n",
        "  img = img.resize((128, 128)) # Use Image.ANTIALIAS\n",
        "  img = img.convert('L') # Convert to grayscale using PIL\n",
        "  img = np.array(img)\n",
        "  img = img.reshape(1, 128, 128, 1)\n",
        "  img = img / 255.0\n",
        "  return img"
      ],
      "metadata": {
        "id": "OVhVjDw9z6nd"
      },
      "execution_count": null,
      "outputs": []
    },
    {
      "cell_type": "code",
      "source": [
        "img_to_test = '/content/drive/MyDrive/me.jpg'\n",
        "features = get_image_features(img_to_test)\n",
        "pred = model.predict(features)\n",
        "gender = gender_mapping[round(pred[0][0][0])]\n",
        "age = round(pred[1][0][0])\n",
        "\n",
        "plt.title(f'Predicted Age: {age} Predicted Gender: {gender}')\n",
        "plt.axis('off')\n",
        "plt.imshow(np.array(load_img(img_to_test)))\n"
      ],
      "metadata": {
        "id": "Pb7Da8FNz9er"
      },
      "execution_count": null,
      "outputs": []
    }
  ]
}